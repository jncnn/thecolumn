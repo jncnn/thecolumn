{
 "cells": [
  {
   "cell_type": "code",
   "execution_count": null,
   "metadata": {},
   "outputs": [],
   "source": [
    "#depencies \n",
    "\n",
    "import random\n",
    "import matplotlib.pyplot as plt\n",
    "import pandas as pd\n",
    "import numpy as np\n",
    "import time\n",
    "import requests\n",
    "import datetime as dt # to put a datestamp on the outputs\n",
    "from pprint import pprint\n",
    "from scipy.stats import linregress\n",
    "import scipy.stats as stats\n",
    "from pandas.plotting import radviz\n",
    "import random\n",
    "import seaborn as sns\n",
    "\n"
   ]
  },
  {
   "cell_type": "code",
   "execution_count": null,
   "metadata": {},
   "outputs": [],
   "source": [
    "#read excel in pandas\n",
    "df = pd.read_excel('data/summary.xlsx')\n",
    "#df1= pd.read_csv('data/linkset.csv')\n",
    "# check data\n",
    "df.head()"
   ]
  },
  {
   "cell_type": "code",
   "execution_count": null,
   "metadata": {},
   "outputs": [],
   "source": [
    "#check type of ['Date/Time']\n",
    "type(df['Date/Time'][0])\n"
   ]
  },
  {
   "cell_type": "code",
   "execution_count": null,
   "metadata": {},
   "outputs": [],
   "source": [
    "#change the type of ['Date/Time'] str to datestamp\n",
    "df['Date/Time'] = pd.to_datetime(df['Date/Time'], format='%Y-%m-%d %H:%M:%S.%f')\n",
    "\n",
    "#split the ['Date/Time'] into year,month,week,day,time and weekday.\n",
    "#double check the time again\n",
    "\n",
    "df['date'] = df['Date/Time'].dt.date\n",
    "df['month'] = df['Date/Time'].dt.month\n",
    "df['weeks'] = df['Date/Time'].dt.week\n",
    "#df['day'] = df['Date/Time'].dt.day\n",
    "df['time'] = df['Date/Time'].dt.hour\n",
    "df['weekday'] = df['Date/Time'].dt.day_name()\n",
    "# to get weekdays name\n",
    "\n",
    "#from dateutil.parser import parse\n",
    "#parse('2018-08-09').day\n",
    "#date_1 = '2018-02-06'\n",
    "#parse(date_1).isocalendar()[1]\n",
    "#df['weekday'] = df['Date/Time'].apply(lambda x: parse(str(x)).strftime(\"%A\"))"
   ]
  },
  {
   "cell_type": "code",
   "execution_count": null,
   "metadata": {},
   "outputs": [],
   "source": [
    "df.head()"
   ]
  },
  {
   "cell_type": "code",
   "execution_count": null,
   "metadata": {},
   "outputs": [],
   "source": [
    "df['Duration'] = pd.to_datetime(df['Duration'], format='%H:%M:%S.%f')\n",
    "\n",
    "df['process_time']=df['Duration'].dt.second"
   ]
  },
  {
   "cell_type": "code",
   "execution_count": null,
   "metadata": {},
   "outputs": [],
   "source": [
    "df.head()"
   ]
  },
  {
   "cell_type": "code",
   "execution_count": null,
   "metadata": {},
   "outputs": [],
   "source": [
    "#see the columns name before rename or drop \n",
    "\n",
    "df.columns\n"
   ]
  },
  {
   "cell_type": "code",
   "execution_count": null,
   "metadata": {},
   "outputs": [],
   "source": [
    "#df1=df.rename(columns={\"\":\"\", })  in order to rename columns\n",
    "df1=df.rename(columns={'Date/Time':'Datetime',\n",
    "                       'Sends':'#sent_email', \n",
    "                       'Opens':\"#opened_email\",\n",
    "                       'Open Rate':'open_rate',\n",
    "                       'Click Rate':'click_rate',\n",
    "                       'Word Count':'word_count', \n",
    "                       'Link Count':'link_count',\n",
    "                        'week':'#weeks'})\n",
    "df1.head(5)"
   ]
  },
  {
   "cell_type": "code",
   "execution_count": null,
   "metadata": {},
   "outputs": [],
   "source": [
    "df1=df1[[\"date\",\"month\",\"time\",\"weeks\",\"weekday\",\"process_time\",\"#sent_email\",'#opened_email','Clicks',\"link_count\",\n",
    "         'Unsubscribes','word_count','open_rate','click_rate'\n",
    "    \n",
    "]]\n",
    "df1.head()"
   ]
  },
  {
   "cell_type": "code",
   "execution_count": null,
   "metadata": {},
   "outputs": [],
   "source": [
    "#basic stat\n",
    "df1.describe()"
   ]
  },
  {
   "cell_type": "code",
   "execution_count": null,
   "metadata": {},
   "outputs": [],
   "source": [
    "x_values = df1[\"#sent_email\"]\n",
    "y_values = df1[\"#opened_email\"]\n",
    "(slope, intercept, rvalue, pvalue, stderr) = linregress(x_values, y_values)\n",
    "regress_values = x_values * slope + intercept\n",
    "line_eq = \"y = \" + str(round(slope,2)) + \"x + \" + str(round(intercept,2))\n",
    "plt.plot(x_values,regress_values,\"r-\")\n",
    "plt.annotate(line_eq,(100,1200),fontsize=12,color=\"red\",)\n",
    "plt.scatter(x_values,y_values,alpha=0.5, edgecolors=\"k\")\n",
    "plt.title('send_email_to_open_email')\n",
    "plt.xlabel('number of send email')\n",
    "plt.ylabel('number of open email')\n",
    "plt.show()\n",
    "\n",
    "print(rvalue)\n",
    "print(pvalue)"
   ]
  },
  {
   "cell_type": "markdown",
   "metadata": {},
   "source": [
    "### correlation is really strong , number of send email affect the number of open email definetly also p value is less than .050 and we can trust the correlation \n"
   ]
  },
  {
   "cell_type": "code",
   "execution_count": null,
   "metadata": {},
   "outputs": [],
   "source": [
    "x_values = df1[\"word_count\"]\n",
    "y_values = df1[\"link_count\"]\n",
    "(slope, intercept, rvalue, pvalue, stderr) = linregress(x_values, y_values)\n",
    "regress_values = x_values * slope + intercept\n",
    "line_eq = \"y = \" + str(round(slope,2)) + \"x + \" + str(round(intercept,2))\n",
    "plt.plot(x_values,regress_values,\"r-\")\n",
    "plt.annotate(line_eq,(0.5,7.5),fontsize=12,color=\"red\",)\n",
    "plt.scatter(x_values,y_values,alpha=0.5, edgecolors=\"k\")\n",
    "plt.title('word_link')\n",
    "plt.xlabel('word_count')\n",
    "plt.ylabel(\"link_count\")\n",
    "plt.show()\n",
    "\n",
    "print(rvalue)\n",
    "print(pvalue)"
   ]
  },
  {
   "cell_type": "markdown",
   "metadata": {},
   "source": [
    "### there is no correaltion here , word count  does not affect the link count in the text.\n"
   ]
  },
  {
   "cell_type": "code",
   "execution_count": null,
   "metadata": {},
   "outputs": [],
   "source": [
    "x_values = df1[\"Clicks\"]\n",
    "y_values = df1[\"link_count\"]\n",
    "(slope, intercept, rvalue, pvalue, stderr) = linregress(x_values, y_values)\n",
    "regress_values = x_values * slope + intercept\n",
    "line_eq = \"y = \" + str(round(slope,2)) + \"x + \" + str(round(intercept,2))\n",
    "plt.plot(x_values,regress_values,\"r-\")\n",
    "plt.annotate(line_eq,(400,20),fontsize=13,color=\"red\",)\n",
    "plt.scatter(x_values,y_values,alpha=0.5, edgecolors=\"k\")\n",
    "plt.title('Click_link')\n",
    "plt.xlabel('clicks')\n",
    "plt.ylabel(\"link_count\")\n",
    "plt.show()\n",
    "\n",
    "print(rvalue)\n",
    "print(pvalue)"
   ]
  },
  {
   "cell_type": "markdown",
   "metadata": {},
   "source": [
    "### When number of link increase , also number of click increase.positive correlation here\n",
    "   "
   ]
  },
  {
   "cell_type": "code",
   "execution_count": null,
   "metadata": {},
   "outputs": [],
   "source": [
    "\n"
   ]
  },
  {
   "cell_type": "code",
   "execution_count": null,
   "metadata": {},
   "outputs": [],
   "source": [
    "x_values = df1[\"word_count\"]\n",
    "y_values = df1[\"link_count\"]\n",
    "(slope, intercept, rvalue, pvalue, stderr) = linregress(x_values, y_values)\n",
    "regress_values = x_values * slope + intercept\n",
    "line_eq = \"y = \" + str(round(slope,2)) + \"x + \" + str(round(intercept,2))\n",
    "plt.plot(x_values,regress_values,\"r-\")\n",
    "plt.annotate(line_eq,(0.5,7.5),fontsize=12,color=\"red\",)\n",
    "plt.scatter(x_values,y_values,alpha=0.5, edgecolors=\"k\")\n",
    "plt.title('word_link')\n",
    "plt.xlabel('word_count')\n",
    "plt.ylabel(\"link_count\")\n",
    "plt.show()\n",
    "\n",
    "print(rvalue)\n",
    "print(pvalue)"
   ]
  },
  {
   "cell_type": "code",
   "execution_count": null,
   "metadata": {},
   "outputs": [],
   "source": [
    "\n"
   ]
  },
  {
   "cell_type": "code",
   "execution_count": null,
   "metadata": {},
   "outputs": [],
   "source": [
    "\"\"\"sns.pairplot(data=df1, kind='reg', height =5,\n",
    "                  x_vars=['weekday'],\n",
    "                  y_vars=[\"#sent_email\"])\n",
    "\"\"\""
   ]
  },
  {
   "cell_type": "code",
   "execution_count": null,
   "metadata": {},
   "outputs": [],
   "source": []
  },
  {
   "cell_type": "code",
   "execution_count": null,
   "metadata": {},
   "outputs": [],
   "source": [
    "import seaborn as sns\n",
    "sns.stripplot(y=\"#opened_email\", x=\"time\", data=df1)\n"
   ]
  },
  {
   "cell_type": "code",
   "execution_count": null,
   "metadata": {},
   "outputs": [],
   "source": [
    "import seaborn as sns\n",
    "sns.stripplot(y=\"#opened_email\", x=\"weekday\", data=df1)"
   ]
  },
  {
   "cell_type": "code",
   "execution_count": null,
   "metadata": {},
   "outputs": [],
   "source": [
    "f_val, p_val = stats.f_oneway(df1['#opened_email'][df1['weekday'] == 'Monday'], df1['#opened_email'][df1['weekday'] == 'Friday'])"
   ]
  },
  {
   "cell_type": "code",
   "execution_count": null,
   "metadata": {},
   "outputs": [],
   "source": [
    "p_val"
   ]
  },
  {
   "cell_type": "code",
   "execution_count": null,
   "metadata": {},
   "outputs": [],
   "source": [
    "f_val, p_val = stats.f_oneway(df1['#opened_email'][df1['weekday'] == 'Monday'],\n",
    "                              df1['#opened_email'][df1['weekday'] == 'Wednesday'])"
   ]
  },
  {
   "cell_type": "code",
   "execution_count": null,
   "metadata": {},
   "outputs": [],
   "source": [
    "p_val"
   ]
  },
  {
   "cell_type": "code",
   "execution_count": null,
   "metadata": {},
   "outputs": [],
   "source": [
    "f_val, p_val = stats.f_oneway(df1['#opened_email'][df1['weekday'] == 'Monday'],\n",
    "                              df1['#opened_email'][df1['weekday'] == 'Thursday'])"
   ]
  },
  {
   "cell_type": "code",
   "execution_count": null,
   "metadata": {},
   "outputs": [],
   "source": [
    "\"\"\"Thecolumn news was not realase every Tuesyday/Thursday, that's what p value is less than .005\"\"\"\n",
    "p_val\n"
   ]
  },
  {
   "cell_type": "code",
   "execution_count": null,
   "metadata": {},
   "outputs": [],
   "source": [
    "output_data_file = \"output_data/df1.xsls\""
   ]
  },
  {
   "cell_type": "code",
   "execution_count": null,
   "metadata": {},
   "outputs": [],
   "source": [
    "df1.to_xsls(output_data_file, index_label='City_ID')"
   ]
  }
 ],
 "metadata": {
  "kernelspec": {
   "display_name": "Python 3",
   "language": "python",
   "name": "python3"
  },
  "language_info": {
   "codemirror_mode": {
    "name": "ipython",
    "version": 3
   },
   "file_extension": ".py",
   "mimetype": "text/x-python",
   "name": "python",
   "nbconvert_exporter": "python",
   "pygments_lexer": "ipython3",
   "version": "3.6.10"
  }
 },
 "nbformat": 4,
 "nbformat_minor": 4
}
